{
 "cells": [
  {
   "cell_type": "markdown",
   "metadata": {},
   "source": [
    "# Capstone Project: Create a Customer Segmentation Report for Arvato Financial Services\n",
    "\n",
    "In this project, we analyze demographics data for customers of a mail-order sales company in Germany, comparing it against demographics information for the general population. You'll use unsupervised learning techniques to perform customer segmentation, identifying the parts of the population that best describe the core customer base of the company. Then, you'll apply what you've learned on a third dataset with demographics information for targets of a marketing campaign for the company, and use a model to predict which individuals are most likely to convert into becoming customers for the company. The data that you will use has been provided by our partners at Bertelsmann Arvato Analytics, and represents a real-life data science task."
   ]
  },
  {
   "cell_type": "code",
   "execution_count": 1,
   "metadata": {},
   "outputs": [],
   "source": [
    "# import libraries here; add more as necessary\n",
    "import numpy as np\n",
    "import pandas as pd\n",
    "import matplotlib.pyplot as plt\n",
    "import seaborn as sns\n",
    "\n",
    "from sklearn.pipeline import Pipeline\n",
    "from sklearn.impute import SimpleImputer\n",
    "from sklearn.preprocessing import StandardScaler, OneHotEncoder\n",
    "from sklearn.compose import ColumnTransformer\n",
    "\n",
    "from time import time\n",
    "\n",
    "# magic word for producing visualizations in notebook\n",
    "%matplotlib inline"
   ]
  },
  {
   "cell_type": "markdown",
   "metadata": {},
   "source": [
    "## Part 0: Get to Know the Data\n",
    "\n",
    "There are four data files associated with this project:\n",
    "\n",
    "- `Udacity_AZDIAS_052018.csv`: Demographics data for the general population of Germany; 891 211 persons (rows) x 366 features (columns).\n",
    "- `Udacity_CUSTOMERS_052018.csv`: Demographics data for customers of a mail-order company; 191 652 persons (rows) x 369 features (columns).\n",
    "- `Udacity_MAILOUT_052018_TRAIN.csv`: Demographics data for individuals who were targets of a marketing campaign; 42 982 persons (rows) x 367 (columns).\n",
    "- `Udacity_MAILOUT_052018_TEST.csv`: Demographics data for individuals who were targets of a marketing campaign; 42 833 persons (rows) x 366 (columns).\n",
    "\n",
    "Each row of the demographics files represents a single person, but also includes information outside of individuals, including information about their household, building, and neighborhood. Use the information from the first two files to figure out how customers (\"CUSTOMERS\") are similar to or differ from the general population at large (\"AZDIAS\"), then use your analysis to make predictions on the other two files (\"MAILOUT\"), predicting which recipients are most likely to become a customer for the mail-order company.\n",
    "\n",
    "The \"CUSTOMERS\" file contains three extra columns ('CUSTOMER_GROUP', 'ONLINE_PURCHASE', and 'PRODUCT_GROUP'), which provide broad information about the customers depicted in the file. The original \"MAILOUT\" file included one additional column, \"RESPONSE\", which indicated whether or not each recipient became a customer of the company. For the \"TRAIN\" subset, this column has been retained, but in the \"TEST\" subset it has been removed; it is against that withheld column that your final predictions will be assessed in the Kaggle competition.\n",
    "\n",
    "Otherwise, all of the remaining columns are the same between the three data files. For more information about the columns depicted in the files, you can refer to two Excel spreadsheets provided in the workspace. [One of them](./DIAS Information Levels - Attributes 2017.xlsx) is a top-level list of attributes and descriptions, organized by informational category. [The other](./DIAS Attributes - Values 2017.xlsx) is a detailed mapping of data values for each feature in alphabetical order.\n",
    "\n",
    "In the below cell, we've provided some initial code to load in the first two datasets. Note for all of the `.csv` data files in this project that they're semicolon (`;`) delimited, so an additional argument in the [`read_csv()`](https://pandas.pydata.org/pandas-docs/stable/generated/pandas.read_csv.html) call has been included to read in the data properly. Also, considering the size of the datasets, it may take some time for them to load completely.\n",
    "\n",
    "You'll notice when the data is loaded in that a warning message will immediately pop up. Before you really start digging into the modeling and analysis, you're going to need to perform some cleaning. Take some time to browse the structure of the data and look over the informational spreadsheets to understand the data values. Make some decisions on which features to keep, which features to drop, and if any revisions need to be made on data formats. It'll be a good idea to create a function with pre-processing steps, since you'll need to clean all of the datasets before you work with them."
   ]
  },
  {
   "cell_type": "code",
   "execution_count": 2,
   "metadata": {},
   "outputs": [
    {
     "name": "stderr",
     "output_type": "stream",
     "text": [
      "C:\\Users\\max.000\\Miniconda3\\lib\\site-packages\\IPython\\core\\interactiveshell.py:3063: DtypeWarning: Columns (18,19) have mixed types.Specify dtype option on import or set low_memory=False.\n",
      "  interactivity=interactivity, compiler=compiler, result=result)\n"
     ]
    }
   ],
   "source": [
    "# load in the data\n",
    "azdias = pd.read_csv('./Udacity_AZDIAS_052018.csv', sep=';', index_col='LNR', low_memory=True) # Demographics data for the general population of Germany"
   ]
  },
  {
   "cell_type": "code",
   "execution_count": 3,
   "metadata": {},
   "outputs": [],
   "source": [
    "customers = pd.read_csv('./Udacity_CUSTOMERS_052018.csv', sep=';', index_col='LNR', low_memory=True) # Demographics data for customers\n",
    "customers.drop(columns=['CUSTOMER_GROUP', 'ONLINE_PURCHASE', 'PRODUCT_GROUP'], inplace=True)"
   ]
  },
  {
   "cell_type": "code",
   "execution_count": 4,
   "metadata": {},
   "outputs": [
    {
     "name": "stdout",
     "output_type": "stream",
     "text": [
      "azdias    number of columns: 365\n",
      "customers number of columns: 365\n"
     ]
    }
   ],
   "source": [
    "print(f'azdias    number of columns: {azdias.shape[1]}')\n",
    "print(f'customers number of columns: {customers.shape[1]}')"
   ]
  },
  {
   "cell_type": "markdown",
   "metadata": {},
   "source": [
    "#### Preprocess Function"
   ]
  },
  {
   "cell_type": "code",
   "execution_count": 3,
   "metadata": {},
   "outputs": [],
   "source": [
    "# drop unknown (non-described) columns\n",
    "def drop_nondescr_columns(df):\n",
    "    \n",
    "    columns_to_drop = ['AKT_DAT_KL', 'ALTERSKATEGORIE_FEIN', 'ALTER_KIND1', 'ALTER_KIND2', 'ALTER_KIND3', 'ALTER_KIND4', 'ANZ_STATISTISCHE_HAUSHALTE', \n",
    "                       'ARBEIT', 'CJT_KATALOGNUTZER', 'CJT_TYP_1', 'CJT_TYP_2', 'CJT_TYP_3', 'CJT_TYP_4', 'CJT_TYP_5', 'CJT_TYP_6', 'D19_KONSUMTYP_MAX', \n",
    "                       'D19_LETZTER_KAUF_BRANCHE', 'D19_SOZIALES', 'DSL_FLAG', 'EINGEFUEGT_AM', 'EINGEZOGENAM_HH_JAHR', 'EXTSEL992', 'FIRMENDICHTE', \n",
    "                       'GEMEINDETYP', 'HH_DELTA_FLAG', 'KBA13_ANTG1', 'KBA13_ANTG2', 'KBA13_ANTG3', 'KBA13_ANTG4', 'KBA13_BAUMAX', 'KBA13_CCM_1401_2500', \n",
    "                       'KBA13_GBZ', 'KBA13_HHZ', 'KBA13_KMH_210', 'KOMBIALTER', 'KONSUMZELLE', 'MOBI_RASTER', 'RT_KEIN_ANREIZ', 'RT_SCHNAEPPCHEN', \n",
    "                       'RT_UEBERGROESSE', 'STRUKTURTYP', 'UMFELD_ALT', 'UMFELD_JUNG', 'UNGLEICHENN_FLAG', 'VERDICHTUNGSRAUM', 'VHA', 'VHN', 'VK_DHT4A', \n",
    "                       'VK_DISTANZ', 'VK_ZG11'] #LNR\n",
    "    df.drop(columns=columns_to_drop, inplace=True)\n",
    "    \n",
    "    return df"
   ]
  },
  {
   "cell_type": "code",
   "execution_count": 4,
   "metadata": {},
   "outputs": [],
   "source": [
    "# rename columns\n",
    "def rename_columns(df):\n",
    "    \n",
    "    column_new_names = {'CAMEO_INTL_2015': 'CAMEO_DEUINTL_2015', 'D19_BANKEN_DIREKT': 'D19_BANKEN_DIREKT_RZ', 'D19_BANKEN_GROSS': 'D19_BANKEN_GROSS_RZ', \n",
    "                        'D19_BANKEN_LOKAL': 'D19_BANKEN_LOKAL_RZ', 'D19_BANKEN_REST': 'D19_BANKEN_REST_RZ', 'D19_BEKLEIDUNG_GEH': 'D19_BEKLEIDUNG_GEH_RZ', \n",
    "                        'D19_BEKLEIDUNG_REST': 'D19_BEKLEIDUNG_REST_RZ', 'D19_BILDUNG': 'D19_BILDUNG_RZ', 'D19_BIO_OEKO': 'D19_BIO_OEKO_RZ', \n",
    "                        'D19_BUCH_CD': 'D19_BUCH_RZ', 'D19_DIGIT_SERV': 'D19_DIGIT_SERV_RZ', 'D19_DROGERIEARTIKEL': 'D19_DROGERIEARTIKEL_RZ', \n",
    "                        'D19_ENERGIE': 'D19_ENERGIE_RZ', 'D19_FREIZEIT': 'D19_FREIZEIT_RZ', 'D19_GARTEN': 'D19_GARTEN_RZ', 'D19_HANDWERK': 'D19_HANDWERK_RZ', \n",
    "                        'D19_HAUS_DEKO': 'D19_HAUS_DEKO_RZ', 'D19_KINDERARTIKEL': 'D19_KINDERARTIKEL_RZ', 'D19_KOSMETIK': 'D19_KOSMETIK_RZ', \n",
    "                        'D19_LEBENSMITTEL': 'D19_LEBENSMITTEL_RZ', 'D19_LOTTO': 'D19_LOTTO_RZ', 'D19_NAHRUNGSERGAENZUNG': 'D19_NAHRUNGSERGAENZUNG_RZ', \n",
    "                        'D19_RATGEBER': 'D19_RATGEBER_RZ', 'D19_REISEN': 'D19_REISEN_RZ', 'D19_SAMMELARTIKEL': 'D19_SAMMELARTIKEL_RZ', \n",
    "                        'D19_SCHUHE': 'D19_SCHUHE_RZ', 'D19_SONSTIGE': 'D19_SONSTIGE_RZ', 'D19_TECHNIK': 'D19_TECHNIK_RZ', \n",
    "                        'D19_TELKO_MOBILE': 'D19_TELKO_MOBILE_RZ', 'D19_TELKO_REST': 'D19_TELKO_REST_RZ', 'D19_TIERARTIKEL': 'D19_TIERARTIKEL_RZ', \n",
    "                        'D19_VERSAND_REST': 'D19_VERSAND_REST_RZ', 'D19_VERSICHERUNGEN': 'D19_VERSICHERUNGEN_RZ', 'D19_VOLLSORTIMENT': 'D19_VOLLSORTIMENT_RZ', \n",
    "                        'D19_WEIN_FEINKOST': 'D19_WEIN_FEINKOST_RZ', 'KK_KUNDENTYP': 'D19_KK_KUNDENTYP', 'SOHO_KZ' : 'SOHO_FLAG'}\n",
    "    \n",
    "    df.rename(columns=column_new_names, inplace=True)\n",
    "    \n",
    "    return df"
   ]
  },
  {
   "cell_type": "code",
   "execution_count": 5,
   "metadata": {},
   "outputs": [],
   "source": [
    "# fix wrong inputs\n",
    "def fix_wrong_input(df):\n",
    "    \n",
    "    # The following values (X and XX) are not described at the attribute description list in specific columns(attributes).\n",
    "    wrong_inputs = {'CAMEO_DEUG_2015': 'X',\n",
    "                    'CAMEO_DEU_2015': 'XX',\n",
    "                    'CAMEO_DEUINTL_2015': 'XX'}\n",
    "    df.replace(to_replace=wrong_inputs, value=np.nan, inplace=True)\n",
    "    \n",
    "    # The following two columns can be set to type float since now they contain only numbers\n",
    "    for col in ['CAMEO_DEUG_2015', 'CAMEO_DEUINTL_2015']:\n",
    "        df[col] = df[col].astype(float)\n",
    "    \n",
    "    return df"
   ]
  },
  {
   "cell_type": "code",
   "execution_count": 6,
   "metadata": {},
   "outputs": [],
   "source": [
    "# a top-level list of attributes and descriptions, organized by informational category\n",
    "attr_values = pd.read_excel('./DIAS Attributes - Values 2017.xlsx', header = 1)\n",
    "\n",
    "# Processing Attributes-Values dataset\n",
    "\n",
    "# drop first empty column and description column\n",
    "attr_values.drop(columns=['Unnamed: 0', 'Description'], inplace=True)\n",
    "\n",
    "# Fill missing values in Attribute column by propagating last valid observation forward\n",
    "attr_values['Attribute'].ffill(inplace=True)\n",
    "\n",
    "# convert all Value values to string, so to have a uniform datatype for easier processing later\n",
    "attr_values['Value'] = attr_values['Value'].astype(str)"
   ]
  },
  {
   "cell_type": "code",
   "execution_count": 7,
   "metadata": {},
   "outputs": [],
   "source": [
    "# uknown/wrong values to nan\n",
    "def unknown_to_nan(df):\n",
    "    \n",
    "    unknown_values_list = ['unknown', \n",
    "                            'no transaction known', \n",
    "                            'no transactions known', \n",
    "                            'unknown / no main age detectable']\n",
    "\n",
    "    # Create a dataframe only with values that mean unknown/missing values in each column\n",
    "    unknown_attrs = attr_values[attr_values['Meaning'].isin(unknown_values_list)].copy().reset_index(drop = True)\n",
    "\n",
    "    # Create a dictionary of values to be replaced with NaN values in each column\n",
    "    missing_or_unknown = {}\n",
    "    for (idx, row) in unknown_attrs.iterrows():\n",
    "        attr = row['Attribute']\n",
    "        values = row['Value'].split(',')\n",
    "        missing_or_unknown[attr] = []\n",
    "        for val in values:\n",
    "            val = int(val)\n",
    "            missing_or_unknown[attr].append(val)\n",
    "\n",
    "    df.replace(to_replace=missing_or_unknown, value=np.nan, inplace=True)\n",
    "    \n",
    "    return df"
   ]
  },
  {
   "cell_type": "code",
   "execution_count": 8,
   "metadata": {},
   "outputs": [],
   "source": [
    "def split_mix_columns(df):\n",
    "    # Engineer Mixed-Type Features\n",
    "    \n",
    "    # split CAMEO_DEUINTL_2015 into two columns (wealth and life-stage)\n",
    "    df['CAMEO_DEUINTL_2015_wealth'] = df['CAMEO_DEUINTL_2015'].map(lambda x: int(str(x)[0]) , na_action='ignore')\n",
    "    df['CAMEO_DEUINTL_2015_lifestage'] = df['CAMEO_DEUINTL_2015'].map(lambda x: int(str(x)[1]) , na_action='ignore')\n",
    "    \n",
    "    df.drop(columns=['CAMEO_DEUINTL_2015'], inplace=True)\n",
    "    \n",
    "    # split PRAEGENDE_JUGENDJAHRE into two columns (generation decade and movement)\n",
    "    decade_map = {1:1, 2:1, # 1: 40s\n",
    "                  3:2, 4:2, # 2: 50s\n",
    "                  5:3, 6:3, 7:3, # 3: 60s\n",
    "                  8:4, 9:4, # 4: 70s\n",
    "                  10:5, 11:5, 12:5, 13:5, #5: 80s\n",
    "                  14:6, 15:6} # 6: 90s\n",
    "    \n",
    "    df['PRAEGENDE_JUGENDJAHRE_DECADE'] = df['PRAEGENDE_JUGENDJAHRE'].map(decade_map)\n",
    "    \n",
    "    # movement mapping  1: mainstream 2: avantgarde\n",
    "    def set_movement(x):\n",
    "        if x in [1,3,5,8,10,12,14]:\n",
    "            return 1\n",
    "        elif x in [2,4,6,7,9,11,13,15]:\n",
    "            return 2\n",
    "        \n",
    "    df['PRAEGENDE_JUGENDJAHRE_MOVEMENT'] = df['PRAEGENDE_JUGENDJAHRE'].apply(set_movement)\n",
    "    \n",
    "    df.drop(columns=['PRAEGENDE_JUGENDJAHRE'], inplace=True)\n",
    "    \n",
    "    return df"
   ]
  },
  {
   "cell_type": "code",
   "execution_count": 9,
   "metadata": {},
   "outputs": [],
   "source": [
    "# drop columns that miss more than 30% of values\n",
    "\n",
    "NAN_COLS_TO_DROP = [] # global variable\n",
    "\n",
    "def drop_cols_nan_thres(df):\n",
    "    # drop columns with high percentage of missing values\n",
    "    \n",
    "    def cols_nan_thres(df, threshold):\n",
    "        col_nan_pc = df.isnull().mean()*100\n",
    "        cols_above_thres = col_nan_pc[col_nan_pc > threshold].index.to_list()\n",
    "        return cols_above_thres\n",
    "    \n",
    "    global NAN_COLS_TO_DROP\n",
    "    \n",
    "    if not(NAN_COLS_TO_DROP):\n",
    "        NAN_COLS_TO_DROP = cols_nan_thres(azdias, 70)\n",
    "    \n",
    "    df.drop(columns=NAN_COLS_TO_DROP, inplace=True)\n",
    "    \n",
    "    return df"
   ]
  },
  {
   "cell_type": "code",
   "execution_count": 10,
   "metadata": {},
   "outputs": [],
   "source": [
    "def encode_cols(df):\n",
    "    \n",
    "    # we let columns with numerical binary values (0-1) as is\n",
    "    \n",
    "    # encoding binary non-numerical feature\n",
    "    df.replace( {'OST_WEST_KZ': {'W':0, 'O':1}}, inplace=True )\n",
    "    # standardize numberical binary to 0-1\n",
    "    df['VERS_TYP'].replace([2.0, 1.0], [1, 0], inplace=True)\n",
    "    df['ANREDE_KZ'].replace([2, 1], [1, 0], inplace=True)\n",
    "    \n",
    "    # discard features high cardinality features\n",
    "    cols_to_drop = ['CAMEO_DEU_2015', 'GEBAEUDETYP']\n",
    "    df.drop(columns=cols_to_drop, inplace=True)\n",
    "    \n",
    "    # Encode categorical columns\n",
    "    cat_cols_to_encode = ['CJT_GESAMTTYP', 'FINANZTYP', 'GFK_URLAUBERTYP', 'LP_FAMILIE_FEIN', 'LP_FAMILIE_GROB', 'LP_STATUS_FEIN', 'LP_STATUS_GROB',\n",
    "                        'NATIONALITAET_KZ', 'SHOPPER_TYP', 'ZABEOTYP', 'CAMEO_DEUG_2015']\n",
    "    \n",
    "    encoded_df = pd.get_dummies(df, columns = cat_cols_to_encode)\n",
    "    \n",
    "    \n",
    "    return encoded_df"
   ]
  },
  {
   "cell_type": "code",
   "execution_count": 11,
   "metadata": {},
   "outputs": [],
   "source": [
    "def clean_data(df):\n",
    "    \n",
    "    df = drop_nondescr_columns(df) # drop unknown columns\n",
    "    df = rename_columns(df) # rename columns\n",
    "    df = fix_wrong_input(df) # replace X values with NaN and fix dtypes in specific columns\n",
    "    df = unknown_to_nan(df) # replace values that mean unknown with NaN\n",
    "    df = split_mix_columns(df) # engineer Mixed-Type Features\n",
    "    df = drop_cols_nan_thres(df) # drop columns with high percentage of missing values\n",
    "    df = encode_cols(df) # encode categorical columns\n",
    "    \n",
    "    return df "
   ]
  },
  {
   "cell_type": "code",
   "execution_count": 14,
   "metadata": {},
   "outputs": [],
   "source": [
    "azdias = clean_data(azdias)"
   ]
  },
  {
   "cell_type": "code",
   "execution_count": 15,
   "metadata": {},
   "outputs": [],
   "source": [
    "customers = clean_data(customers)"
   ]
  },
  {
   "cell_type": "code",
   "execution_count": null,
   "metadata": {},
   "outputs": [],
   "source": [
    "#Imputation\n",
    "from sklearn.impute import SimpleImputer\n",
    "imputer = SimpleImputer(missing_values=np.nan, strategy=\"median\")\n",
    "\n",
    "azdias = pd.DataFrame(imputer.fit_transform(azdias), columns = azdias.columns)\n",
    "customers = pd.DataFrame(imputer.transform(customers), columns = customers.columns)"
   ]
  },
  {
   "cell_type": "code",
   "execution_count": 17,
   "metadata": {},
   "outputs": [],
   "source": [
    "# Scaling\n",
    "scaler = StandardScaler()\n",
    "\n",
    "azdias = pd.DataFrame(scaler.fit_transform(azdias.astype(float)), columns = azdias.columns)\n",
    "customers = pd.DataFrame(scaler.transform(customers.astype(float)), columns = customers.columns)"
   ]
  },
  {
   "cell_type": "code",
   "execution_count": 18,
   "metadata": {},
   "outputs": [
    {
     "name": "stdout",
     "output_type": "stream",
     "text": [
      "azdias    number of columns: 336\n",
      "customers number of columns: 336\n"
     ]
    }
   ],
   "source": [
    "print(f'azdias    number of columns: {azdias.shape[1]}')\n",
    "print(f'customers number of columns: {customers.shape[1]}')"
   ]
  },
  {
   "cell_type": "markdown",
   "metadata": {},
   "source": [
    "#### Convert categorical features to a numerical representation."
   ]
  },
  {
   "cell_type": "markdown",
   "metadata": {},
   "source": [
    "An ordinal feature is best described as a feature with natural, ordered categories and the distances between the categories is not known."
   ]
  },
  {
   "cell_type": "markdown",
   "metadata": {},
   "source": [
    "one-hot-encoding. Essentially, each categorical feature with n categories is transformed into n binary features."
   ]
  },
  {
   "cell_type": "markdown",
   "metadata": {},
   "source": [
    "## Part 1: Customer Segmentation Report\n",
    "\n",
    "The main bulk of your analysis will come in this part of the project. Here, you should use unsupervised learning techniques to describe the relationship between the demographics of the company's existing customers and the general population of Germany. By the end of this part, you should be able to describe parts of the general population that are more likely to be part of the mail-order company's main customer base, and which parts of the general population are less so."
   ]
  },
  {
   "cell_type": "markdown",
   "metadata": {},
   "source": [
    "### Dimensionality Reduction\n",
    "##### Principal Component Analysis (PCA)"
   ]
  },
  {
   "cell_type": "code",
   "execution_count": 20,
   "metadata": {},
   "outputs": [],
   "source": [
    "from sklearn.decomposition import PCA\n",
    "pca = PCA()"
   ]
  },
  {
   "cell_type": "code",
   "execution_count": 21,
   "metadata": {},
   "outputs": [],
   "source": [
    "azdias_pca=pca.fit_transform(azdias)"
   ]
  },
  {
   "cell_type": "code",
   "execution_count": 22,
   "metadata": {},
   "outputs": [],
   "source": [
    "# Investigate the variance accounted for by each principal component.\n",
    "def scree_plot(pca):\n",
    "    '''\n",
    "    Creates a scree plot associated with the principal components \n",
    "    INPUT: pca - the result of instantian of PCA in scikit learn\n",
    "    '''\n",
    "    num_components=len(pca.explained_variance_ratio_)\n",
    "    ind = np.arange(num_components)\n",
    "    vals = pca.explained_variance_ratio_\n",
    " \n",
    "    plt.figure(figsize=(11, 6))\n",
    "    ax = plt.subplot(111)\n",
    "    cumvals = np.cumsum(vals)\n",
    "    ax.bar(ind, vals)\n",
    "    ax.plot(ind, cumvals)\n",
    "    for i in range(num_components):\n",
    "        ax.annotate(r\"%s%%\" % ((str(vals[i]*100)[:3])), (ind[i]+0.2, vals[i]), va=\"bottom\", ha=\"center\", fontsize=5)\n",
    " \n",
    "    ax.xaxis.set_tick_params(width=0)\n",
    "    ax.yaxis.set_tick_params(width=2, length=12)\n",
    "\n",
    "    ax.set_xlabel(\"Principal Component\")\n",
    "    ax.set_ylabel(\"Variance Explained (%)\")\n",
    "    plt.title(\"Explained Variance Per Principal Component\")"
   ]
  },
  {
   "cell_type": "code",
   "execution_count": 23,
   "metadata": {},
   "outputs": [
    {
     "data": {
      "image/png": "[encoded data removed]",
      "text/plain": [
       "<Figure size 792x432 with 1 Axes>"
      ]
     },
     "metadata": {
      "needs_background": "light"
     },
     "output_type": "display_data"
    }
   ],
   "source": [
    "scree_plot(pca)"
   ]
  },
  {
   "cell_type": "markdown",
   "metadata": {},
   "source": [
    "Based on the scree plot I believe that 100 features explain pretty well the variance and there's no benefit using more. That's a significant decrease from the initial number of features."
   ]
  },
  {
   "cell_type": "code",
   "execution_count": 24,
   "metadata": {},
   "outputs": [],
   "source": [
    "pca_100 = PCA(n_components = 100)\n",
    "azdias_pca_100 = pca_100.fit_transform(azdias)"
   ]
  },
  {
   "cell_type": "code",
   "execution_count": 25,
   "metadata": {},
   "outputs": [
    {
     "data": {
      "image/png": "[encoded data removed]",
      "text/plain": [
       "<Figure size 792x432 with 1 Axes>"
      ]
     },
     "metadata": {
      "needs_background": "light"
     },
     "output_type": "display_data"
    }
   ],
   "source": [
    "scree_plot(pca_100)"
   ]
  },
  {
   "cell_type": "code",
   "execution_count": null,
   "metadata": {},
   "outputs": [],
   "source": [
    "np.sum(pca.explained_variance_ratio_[:100])"
   ]
  },
  {
   "cell_type": "markdown",
   "metadata": {},
   "source": [
    "Conclusion:\n",
    "100 features can explain 81% of the variability in the dataset!"
   ]
  },
  {
   "cell_type": "markdown",
   "metadata": {},
   "source": [
    "### PCA Interpretation"
   ]
  },
  {
   "cell_type": "code",
   "execution_count": 27,
   "metadata": {},
   "outputs": [],
   "source": [
    "vals = pca.explained_variance_ratio_"
   ]
  },
  {
   "cell_type": "code",
   "execution_count": 28,
   "metadata": {},
   "outputs": [],
   "source": [
    "def pca_weights(pca,i):\n",
    "    \n",
    "    print('{:5.2%}'.format(vals[i]))\n",
    "    components = pd.DataFrame(np.round(pca.components_, 4), columns = azdias.keys())\n",
    "    weights = components.iloc[i].sort_values()\n",
    "    \n",
    "    return weights"
   ]
  },
  {
   "cell_type": "code",
   "execution_count": 29,
   "metadata": {},
   "outputs": [
    {
     "name": "stdout",
     "output_type": "stream",
     "text": [
      "6.69%\n",
      "MOBI_REGIO                  -0.1571\n",
      "PLZ8_ANTG1                  -0.1498\n",
      "KBA05_ANTG1                 -0.1472\n",
      "KBA05_GBZ                   -0.1401\n",
      "KBA05_AUTOQUOT              -0.1374\n",
      "                              ...  \n",
      "PLZ8_BAUMAX                  0.1353\n",
      "LP_STATUS_GROB_1.0           0.1398\n",
      "PLZ8_ANTG4                   0.1401\n",
      "PLZ8_ANTG3                   0.1448\n",
      "CAMEO_DEUINTL_2015_wealth    0.1502\n",
      "Name: 0, Length: 336, dtype: float64\n"
     ]
    }
   ],
   "source": [
    "# first pricinipal component\n",
    "pca_weights_100_0 = pca_weights(pca_100, 0)\n",
    "print(pca_weights_100_0)"
   ]
  },
  {
   "cell_type": "markdown",
   "metadata": {},
   "source": [
    "Lowest:  \n",
    "KBA05_ANTG1 number of 1-2 family houses in the cell  \n",
    "FINANZ_MINIMALIST financial typology: low financial interest  \n",
    "KBA05_GBZ number of buildings in the microcell  \n",
    "MOBI_REGIO moving patterns  \n",
    "PRAEGENDE_JUGENDJAHRE_MOVEMENT movement avantagarde/mainstream  \n",
    "Highest:  \n",
    "PLZ8_BAUMAX most common building-type within the PLZ8  \n",
    "LP_STATUS_FEIN_1.0   social status fine - typical low-income earners  \n",
    "PLZ8_ANTG4 number of >10 family houses in the PLZ8  \n",
    "CAMEO_DEUINTL_2015_wealth household wealth  \n",
    "LP_STATUS_GROB_1.0 social status rough - low-income earners\n",
    "\n"
   ]
  },
  {
   "cell_type": "code",
   "execution_count": 30,
   "metadata": {},
   "outputs": [
    {
     "name": "stdout",
     "output_type": "stream",
     "text": [
      "4.97%\n",
      "KBA13_SITZE_5                 -0.1441\n",
      "KBA13_ALTERHALTER_60          -0.1313\n",
      "KBA13_KMH_140_210             -0.1298\n",
      "KBA13_HALTER_20               -0.1294\n",
      "KBA13_SEG_KLEINWAGEN          -0.1253\n",
      "                                ...  \n",
      "KBA13_SITZE_4                  0.1465\n",
      "KBA13_MERCEDES                 0.1530\n",
      "KBA13_BMW                      0.1531\n",
      "KBA13_SEG_OBEREMITTELKLASSE    0.1576\n",
      "KBA13_HERST_BMW_BENZ           0.1814\n",
      "Name: 1, Length: 336, dtype: float64\n"
     ]
    }
   ],
   "source": [
    "# second pricinipal component\n",
    "pca_weights_100_1 = pca_weights(pca_100, 1)\n",
    "print(pca_weights_100_1)"
   ]
  },
  {
   "cell_type": "markdown",
   "metadata": {},
   "source": [
    "Lowest:  \n",
    "FINANZ_ANLEGER  financial typology: investor  \n",
    "FINANZ_SPARER   financial typology: money saver  \n",
    "FINANZ_UNAUFFAELLIGER  financial typology: unremarkable  \n",
    "SEMIO_REL  affinity indicating in what way the person is religious  \n",
    "PRAEGENDE_JUGENDJAHRE_DECADE  decade of youth movement  \n",
    "Highest:  \n",
    "LP_FAMILIE_FEIN_1.0   familytyp fine - single   \n",
    "SEMIO_LUST   affinity indicating in what way the person is sensual minded  \n",
    "RETOURTYP_BK_S     shopping return type  \n",
    "FINANZ_VORSORGER  financial typology: be prepared  \n",
    "ZABEOTYP typification of energy consumers - fair supplied  "
   ]
  },
  {
   "cell_type": "code",
   "execution_count": 31,
   "metadata": {},
   "outputs": [
    {
     "name": "stdout",
     "output_type": "stream",
     "text": [
      "3.57%\n",
      "FINANZ_VORSORGER               -0.2079\n",
      "ALTERSKATEGORIE_GROB           -0.2034\n",
      "SEMIO_ERL                      -0.1552\n",
      "ZABEOTYP_3                     -0.1548\n",
      "SEMIO_LUST                     -0.1473\n",
      "                                 ...  \n",
      "FINANZ_ANLEGER                  0.1939\n",
      "SEMIO_PFLICHT                   0.2014\n",
      "FINANZ_UNAUFFAELLIGER           0.2015\n",
      "PRAEGENDE_JUGENDJAHRE_DECADE    0.2287\n",
      "FINANZ_SPARER                   0.2332\n",
      "Name: 2, Length: 336, dtype: float64\n"
     ]
    }
   ],
   "source": [
    "# third pricinipal component\n",
    "pca_weights_100_2 = pca_weights(pca_100, 2)\n",
    "print(pca_weights_100_2)"
   ]
  },
  {
   "cell_type": "markdown",
   "metadata": {},
   "source": [
    "Lowest:  \n",
    "FINANZTYP_6 best descirbing financial type for the person - unremarkable  \n",
    "OST_WEST_KZ   flag indicating the former GDR/FRG  \n",
    "KBA13_SITZE_5  number of cars with 5 seats in the PLZ8  \n",
    "LP_STATUS_GROB_4.0      social status rough - average earners  \n",
    "LP_STATUS_FEIN_9.0      social status fine - houseowners  \n",
    "Highest:  \n",
    "KBA13_SITZE_4      number of cars with less than 5 seats in the PLZ8  \n",
    "KBA13_CCM_3001     share of cars with more than 3000ccm within the PLZ8  \n",
    "KBA13_SEG_SPORTWAGEN    share of sportscars within the PLZ8  \n",
    "KBA13_HERST_BMW_BENZ     share of BMW & Mercedes Benz within the PLZ8  \n",
    "FINANZ_UNAUFFAELLIGER    financial typology: unremarkable  "
   ]
  },
  {
   "cell_type": "markdown",
   "metadata": {},
   "source": [
    "#### Conclusions:\n",
    "\n",
    "The first principal component is related to social status, wealth, area building density.  \n",
    "The second principal component is related to family type, financial type, consumer type, personality type.  \n",
    "The third principal component is related to lux/sport cards, financial yype, social status.  "
   ]
  },
  {
   "cell_type": "markdown",
   "metadata": {},
   "source": [
    "### K-Means Clustering"
   ]
  },
  {
   "cell_type": "code",
   "execution_count": 34,
   "metadata": {},
   "outputs": [
    {
     "name": "stdout",
     "output_type": "stream",
     "text": [
      "calculating scores for 1 cluster(s)\n",
      "calculating scores for 3 cluster(s)\n",
      "calculating scores for 5 cluster(s)\n",
      "calculating scores for 7 cluster(s)\n",
      "calculating scores for 9 cluster(s)\n",
      "calculating scores for 11 cluster(s)\n"
     ]
    }
   ],
   "source": [
    "from sklearn.cluster import KMeans\n",
    "\n",
    "scores = []\n",
    "K = range(1, 13,2)\n",
    "for k in K:\n",
    "    print(f'calculating scores for {k} cluster(s)')\n",
    "    kmeanModel = KMeans(n_clusters=k)\n",
    "    kmeanModel.fit(azdias_pca_100)\n",
    "    scores.append(np.abs(kmeanModel.score(azdias_pca_100)))"
   ]
  },
  {
   "cell_type": "code",
   "execution_count": 35,
   "metadata": {},
   "outputs": [
    {
     "data": {
      "image/png": "[encoded data removed]",
      "text/plain": [
       "<Figure size 1008x432 with 1 Axes>"
      ]
     },
     "metadata": {
      "needs_background": "light"
     },
     "output_type": "display_data"
    }
   ],
   "source": [
    "plt.figure(figsize=(14,6))\n",
    "plt.plot(K, scores, '-bx')\n",
    "plt.xlabel('k Number of clusters')\n",
    "plt.ylabel('Within-Cluster Sum of Squares')\n",
    "plt.title('The Elbow Method')\n",
    "plt.show()"
   ]
  },
  {
   "cell_type": "code",
   "execution_count": 37,
   "metadata": {},
   "outputs": [],
   "source": [
    "# Re-fit the k-means model with the 9 clusters\n",
    "kmeansModel9 = KMeans(n_clusters = 9)\n",
    "model9 = kmeansModel9.fit(azdias_pca_100)\n",
    "\n",
    "# Cluster prediction for the general population (predicts the closest cluster each sample in azdias_pca_100 belongs to)\n",
    "population_clusters = kmeansModel9.predict(azdias_pca_100)"
   ]
  },
  {
   "cell_type": "markdown",
   "metadata": {},
   "source": [
    "### Clustering customer data"
   ]
  },
  {
   "cell_type": "code",
   "execution_count": 38,
   "metadata": {},
   "outputs": [],
   "source": [
    "#transform the customers data using pca object\n",
    "customers_pca = pca_100.transform(customers)\n",
    "\n",
    "#predict clustering using the kmeans object\n",
    "customers_clusters = model9.predict(customers_pca)"
   ]
  },
  {
   "cell_type": "markdown",
   "metadata": {},
   "source": [
    "### Compare customer data to demographic data"
   ]
  },
  {
   "cell_type": "code",
   "execution_count": 45,
   "metadata": {},
   "outputs": [
    {
     "data": {
      "image/png": "[encoded data removed]",
      "text/plain": [
       "<Figure size 648x432 with 1 Axes>"
      ]
     },
     "metadata": {
      "needs_background": "light"
     },
     "output_type": "display_data"
    }
   ],
   "source": [
    "# Compare the proportion of data in each cluster for the customer data to the\n",
    "# proportion of data in each cluster for the general population.\n",
    "\n",
    "population_prop = []\n",
    "customers_prop = []\n",
    "\n",
    "for i in range(9):\n",
    "    population_prop.append((population_clusters == i).sum()/len(population_clusters))\n",
    "    customers_prop.append((customers_clusters == i).sum()/len(customers_clusters))\n",
    "\n",
    "comparison_data = pd.DataFrame({'cluster' : range(9), 'population_prop' : population_prop, 'customers_prop': customers_prop})\n",
    "\n",
    "comparison_data.plot(x = 'cluster', y = ['population_prop', 'customers_prop'], kind = 'bar', figsize = (9,6))\n",
    "\n",
    "plt.ylabel('proportion of persons in each cluster')\n",
    "\n",
    "plt.show()"
   ]
  },
  {
   "cell_type": "markdown",
   "metadata": {},
   "source": [
    "#### Clusters overrepresenting Customer Data\n",
    "Clusters 1 and 2 have much higher proportion of persons in the company's customers dataset than the general population one, so they are good target audience for the company. "
   ]
  },
  {
   "cell_type": "code",
   "execution_count": 51,
   "metadata": {},
   "outputs": [
    {
     "data": {
      "text/plain": [
       "HH_EINKOMMEN_SCORE               -1.136499\n",
       "CAMEO_DEUINTL_2015_wealth        -0.975951\n",
       "LP_STATUS_GROB_1.0               -0.736889\n",
       "FINANZ_ANLEGER                   -0.728248\n",
       "FINANZ_SPARER                    -0.715459\n",
       "                                    ...   \n",
       "KBA05_ANTG1                       1.071257\n",
       "GREEN_AVANTGARDE                  1.832444\n",
       "PRAEGENDE_JUGENDJAHRE_MOVEMENT    1.832444\n",
       "LP_STATUS_GROB_5.0                1.990572\n",
       "LP_STATUS_FEIN_10.0               1.990572\n",
       "Length: 336, dtype: float64"
      ]
     },
     "execution_count": 51,
     "metadata": {},
     "output_type": "execute_result"
    }
   ],
   "source": [
    "centroid_1 = pca_100.inverse_transform(model9.cluster_centers_[1])\n",
    "pd.Series(data = centroid_1, index = customers.columns).sort_values()"
   ]
  },
  {
   "cell_type": "markdown",
   "metadata": {},
   "source": [
    "Average to top earners, german nationality, green avantgarde"
   ]
  },
  {
   "cell_type": "code",
   "execution_count": 49,
   "metadata": {},
   "outputs": [
    {
     "data": {
      "text/plain": [
       "NATIONALITAET_KZ_1.0   -1.749101\n",
       "SEMIO_VERT             -1.376680\n",
       "HH_EINKOMMEN_SCORE     -1.219753\n",
       "GEBURTSJAHR            -1.189768\n",
       "SEMIO_SOZ              -0.981493\n",
       "                          ...   \n",
       "GFK_URLAUBERTYP_5.0     1.522356\n",
       "LP_FAMILIE_FEIN_0.0     1.947398\n",
       "LP_FAMILIE_GROB_0.0     1.947398\n",
       "LP_STATUS_FEIN_5.0      2.037368\n",
       "FINANZTYP_4             2.355359\n",
       "Length: 336, dtype: float64"
      ]
     },
     "execution_count": 49,
     "metadata": {},
     "output_type": "execute_result"
    }
   ],
   "source": [
    "centroid_2 = pca_100.inverse_transform(model9.cluster_centers_[2])\n",
    "pd.Series(data = centroid_2, index = customers.columns).sort_values()"
   ]
  },
  {
   "cell_type": "markdown",
   "metadata": {},
   "source": [
    " \"be prepared\" financial type,  minimalistic high-income earners  "
   ]
  },
  {
   "cell_type": "markdown",
   "metadata": {},
   "source": [
    "#### Clusters underrepresenting Customer Data\n",
    "Clusters 4 and 5  have much higher proportion of persons in the general population dataset than the company's customers one, so they should be avoided for marketing campaigns."
   ]
  },
  {
   "cell_type": "code",
   "execution_count": 52,
   "metadata": {},
   "outputs": [
    {
     "data": {
      "text/plain": [
       "CAMEO_DEUG_2015_9.0     1.089668\n",
       "KBA13_HALTER_40         1.106165\n",
       "KBA13_HALTER_30         1.131626\n",
       "KBA13_ALTERHALTER_45    1.156153\n",
       "EWDICHTE                1.165332\n",
       "ORTSGR_KLS9             1.173576\n",
       "PLZ8_ANTG3              1.180202\n",
       "PLZ8_ANTG4              1.296178\n",
       "KBA13_HALTER_35         1.345664\n",
       "PLZ8_BAUMAX             1.479695\n",
       "dtype: float64"
      ]
     },
     "execution_count": 52,
     "metadata": {},
     "output_type": "execute_result"
    }
   ],
   "source": [
    "centroid_4 = pca_100.inverse_transform(model9.cluster_centers_[4])\n",
    "pd.Series(data = centroid_4, index = customers.columns).sort_values().tail(10)"
   ]
  },
  {
   "cell_type": "markdown",
   "metadata": {},
   "source": [
    "upper class in low density areas"
   ]
  },
  {
   "cell_type": "code",
   "execution_count": 53,
   "metadata": {},
   "outputs": [
    {
     "data": {
      "text/plain": [
       "SEMIO_REL                       0.700457\n",
       "LP_STATUS_FEIN_2.0              0.758435\n",
       "FINANZ_ANLEGER                  0.787718\n",
       "SEMIO_RAT                       0.803243\n",
       "FINANZ_UNAUFFAELLIGER           0.846282\n",
       "SEMIO_PFLICHT                   0.865434\n",
       "SEMIO_TRADV                     0.887956\n",
       "PRAEGENDE_JUGENDJAHRE_DECADE    0.983183\n",
       "FINANZ_SPARER                   1.031040\n",
       "FINANZTYP_1                     1.041753\n",
       "dtype: float64"
      ]
     },
     "execution_count": 53,
     "metadata": {},
     "output_type": "execute_result"
    }
   ],
   "source": [
    "centroid_5 = pca_100.inverse_transform(model9.cluster_centers_[5])\n",
    "pd.Series(data = centroid_5, index = customers.columns).sort_values().tail(10)"
   ]
  },
  {
   "cell_type": "markdown",
   "metadata": {},
   "source": [
    "low income, low money-saving, poor household, in dense areas "
   ]
  },
  {
   "cell_type": "markdown",
   "metadata": {},
   "source": [
    "## Part 2: Supervised Learning Model\n",
    "\n",
    "Now that you've found which parts of the population are more likely to be customers of the mail-order company, it's time to build a prediction model. Each of the rows in the \"MAILOUT\" data files represents an individual that was targeted for a mailout campaign. Ideally, we should be able to use the demographic information from each individual to decide whether or not it will be worth it to include that person in the campaign.\n",
    "\n",
    "The \"MAILOUT\" data has been split into two approximately equal parts, each with almost 43 000 data rows. In this part, you can verify your model with the \"TRAIN\" partition, which includes a column, \"RESPONSE\", that states whether or not a person became a customer of the company following the campaign. In the next part, you'll need to create predictions on the \"TEST\" partition, where the \"RESPONSE\" column has been withheld."
   ]
  },
  {
   "cell_type": "markdown",
   "metadata": {},
   "source": [
    "### Preparing data"
   ]
  },
  {
   "cell_type": "code",
   "execution_count": 12,
   "metadata": {},
   "outputs": [],
   "source": [
    "mailout_train = pd.read_csv('./Udacity_MAILOUT_052018_TRAIN.csv', sep=';', index_col='LNR', low_memory = False)"
   ]
  },
  {
   "cell_type": "code",
   "execution_count": 13,
   "metadata": {},
   "outputs": [
    {
     "name": "stdout",
     "output_type": "stream",
     "text": [
      "mailout_train number of features: 366\n"
     ]
    }
   ],
   "source": [
    "print(f'mailout_train number of features: {mailout_train.shape[1]}')"
   ]
  },
  {
   "cell_type": "code",
   "execution_count": 14,
   "metadata": {},
   "outputs": [
    {
     "name": "stdout",
     "output_type": "stream",
     "text": [
      "Positive percentage = 1.24%\n",
      "Total # of positive pts: 532\n",
      "Out of (total) pts: 42962\n"
     ]
    }
   ],
   "source": [
    "print(f'Positive percentage = { (mailout_train.RESPONSE == 1).mean() * 100 :.2f}%')\n",
    "print(f'Total # of positive pts: { (mailout_train.RESPONSE == 1).sum() }')\n",
    "print(f'Out of (total) pts: { mailout_train.shape[0]}' )"
   ]
  },
  {
   "cell_type": "markdown",
   "metadata": {},
   "source": [
    "Only 1.24% of people has reponded to the campaign.\n",
    "The data is highly imbalanced."
   ]
  },
  {
   "cell_type": "code",
   "execution_count": 15,
   "metadata": {},
   "outputs": [],
   "source": [
    "X = mailout_train.drop(columns='RESPONSE')\n",
    "\n",
    "y = mailout_train['RESPONSE']"
   ]
  },
  {
   "cell_type": "code",
   "execution_count": 16,
   "metadata": {},
   "outputs": [
    {
     "name": "stdout",
     "output_type": "stream",
     "text": [
      "X number of features: 365\n"
     ]
    }
   ],
   "source": [
    "print(f'X number of features: {X.shape[1]}')"
   ]
  },
  {
   "cell_type": "code",
   "execution_count": 17,
   "metadata": {},
   "outputs": [],
   "source": [
    "X = clean_data(X)"
   ]
  },
  {
   "cell_type": "code",
   "execution_count": 18,
   "metadata": {},
   "outputs": [
    {
     "name": "stdout",
     "output_type": "stream",
     "text": [
      "X number of features: 383\n"
     ]
    }
   ],
   "source": [
    "print(f'X number of features: {X.shape[1]}')"
   ]
  },
  {
   "cell_type": "code",
   "execution_count": 19,
   "metadata": {},
   "outputs": [],
   "source": [
    "#Imputation\n",
    "imputer = SimpleImputer(missing_values=np.nan, strategy=\"median\")\n",
    "X = pd.DataFrame(imputer.fit_transform(X), columns = X.columns)\n",
    "\n",
    "# Scaling\n",
    "scaler = StandardScaler()\n",
    "X = pd.DataFrame(scaler.fit_transform(X.astype(float)), columns = X.columns)"
   ]
  },
  {
   "cell_type": "markdown",
   "metadata": {},
   "source": [
    "### Comparing models and algorithms"
   ]
  },
  {
   "cell_type": "code",
   "execution_count": 20,
   "metadata": {},
   "outputs": [],
   "source": [
    "from sklearn.linear_model import LogisticRegression\n",
    "from sklearn.ensemble import RandomForestClassifier, AdaBoostClassifier, GradientBoostingClassifier\n",
    "from sklearn.model_selection import GridSearchCV"
   ]
  },
  {
   "cell_type": "code",
   "execution_count": 76,
   "metadata": {},
   "outputs": [],
   "source": [
    "clf_1 = LogisticRegression(random_state=10)\n",
    "clf_2 = RandomForestClassifier(random_state=10)\n",
    "clf_3 = AdaBoostClassifier(random_state=10)\n",
    "clf_4 = GradientBoostingClassifier(random_state=10)"
   ]
  },
  {
   "cell_type": "code",
   "execution_count": 42,
   "metadata": {},
   "outputs": [],
   "source": [
    "def classifier_score(clf, param_grid={}):\n",
    "    \"\"\"\n",
    "    Fit a classifier using GridSearchCV and calculates ROC AUC\n",
    "    \n",
    "    INPUT:\n",
    "    - clf (classifier): classifier to fit\n",
    "    - param_grid (dict): classifier parameters used with GridSearchCV\n",
    "            \n",
    "    OUTPUT:\n",
    "    - classifier: fitted classifier\n",
    "    - prints elapsed time and ROX AUC\n",
    "    \"\"\"\n",
    "    \n",
    "    grid = GridSearchCV(estimator=clf, \n",
    "                        param_grid=param_grid, \n",
    "                        scoring='roc_auc', \n",
    "                        verbose = 1, \n",
    "                        n_jobs=8,\n",
    "                        cv=5) # StratifiedKFold\n",
    "    grid.fit(X, y)\n",
    "\n",
    "    print(grid.best_score_)\n",
    "    \n",
    "    return grid.best_estimator_"
   ]
  },
  {
   "cell_type": "code",
   "execution_count": 78,
   "metadata": {},
   "outputs": [
    {
     "name": "stdout",
     "output_type": "stream",
     "text": [
      "Fitting 5 folds for each of 1 candidates, totalling 5 fits\n"
     ]
    },
    {
     "name": "stderr",
     "output_type": "stream",
     "text": [
      "[Parallel(n_jobs=8)]: Using backend LokyBackend with 8 concurrent workers.\n",
      "[Parallel(n_jobs=8)]: Done   2 out of   5 | elapsed:    7.7s remaining:   11.6s\n",
      "[Parallel(n_jobs=8)]: Done   5 out of   5 | elapsed:    7.8s finished\n",
      "C:\\Users\\max.000\\Miniconda3\\lib\\site-packages\\sklearn\\linear_model\\_logistic.py:940: ConvergenceWarning: lbfgs failed to converge (status=1):\n",
      "STOP: TOTAL NO. of ITERATIONS REACHED LIMIT.\n",
      "\n",
      "Increase the number of iterations (max_iter) or scale the data as shown in:\n",
      "    https://scikit-learn.org/stable/modules/preprocessing.html\n",
      "Please also refer to the documentation for alternative solver options:\n",
      "    https://scikit-learn.org/stable/modules/linear_model.html#logistic-regression\n",
      "  extra_warning_msg=_LOGISTIC_SOLVER_CONVERGENCE_MSG)\n",
      "[Parallel(n_jobs=8)]: Using backend LokyBackend with 8 concurrent workers.\n"
     ]
    },
    {
     "name": "stdout",
     "output_type": "stream",
     "text": [
      "0.598197799248468\n",
      "LogisticRegression(C=1.0, class_weight=None, dual=False, fit_intercept=True,\n",
      "                   intercept_scaling=1, l1_ratio=None, max_iter=100,\n",
      "                   multi_class='auto', n_jobs=None, penalty='l2',\n",
      "                   random_state=10, solver='lbfgs', tol=0.0001, verbose=0,\n",
      "                   warm_start=False)\n",
      "Fitting 5 folds for each of 1 candidates, totalling 5 fits\n"
     ]
    },
    {
     "name": "stderr",
     "output_type": "stream",
     "text": [
      "[Parallel(n_jobs=8)]: Done   2 out of   5 | elapsed:   18.4s remaining:   27.6s\n",
      "[Parallel(n_jobs=8)]: Done   5 out of   5 | elapsed:   19.3s finished\n"
     ]
    },
    {
     "name": "stdout",
     "output_type": "stream",
     "text": [
      "0.5149242003581324\n",
      "RandomForestClassifier(bootstrap=True, ccp_alpha=0.0, class_weight=None,\n",
      "                       criterion='gini', max_depth=None, max_features='auto',\n",
      "                       max_leaf_nodes=None, max_samples=None,\n",
      "                       min_impurity_decrease=0.0, min_impurity_split=None,\n",
      "                       min_samples_leaf=1, min_samples_split=2,\n",
      "                       min_weight_fraction_leaf=0.0, n_estimators=100,\n",
      "                       n_jobs=None, oob_score=False, random_state=10, verbose=0,\n",
      "                       warm_start=False)\n",
      "Fitting 5 folds for each of 1 candidates, totalling 5 fits\n"
     ]
    },
    {
     "name": "stderr",
     "output_type": "stream",
     "text": [
      "[Parallel(n_jobs=8)]: Using backend LokyBackend with 8 concurrent workers.\n",
      "[Parallel(n_jobs=8)]: Done   2 out of   5 | elapsed:   22.4s remaining:   33.7s\n",
      "[Parallel(n_jobs=8)]: Done   5 out of   5 | elapsed:   22.7s finished\n"
     ]
    },
    {
     "name": "stdout",
     "output_type": "stream",
     "text": [
      "0.5833553230058965\n",
      "AdaBoostClassifier(algorithm='SAMME.R', base_estimator=None, learning_rate=1.0,\n",
      "                   n_estimators=50, random_state=10)\n",
      "Fitting 5 folds for each of 1 candidates, totalling 5 fits\n"
     ]
    },
    {
     "name": "stderr",
     "output_type": "stream",
     "text": [
      "[Parallel(n_jobs=8)]: Using backend LokyBackend with 8 concurrent workers.\n",
      "[Parallel(n_jobs=8)]: Done   2 out of   5 | elapsed:  1.3min remaining:  2.0min\n",
      "[Parallel(n_jobs=8)]: Done   5 out of   5 | elapsed:  1.3min finished\n"
     ]
    },
    {
     "name": "stdout",
     "output_type": "stream",
     "text": [
      "0.6021045377965046\n",
      "GradientBoostingClassifier(ccp_alpha=0.0, criterion='friedman_mse', init=None,\n",
      "                           learning_rate=0.1, loss='deviance', max_depth=3,\n",
      "                           max_features=None, max_leaf_nodes=None,\n",
      "                           min_impurity_decrease=0.0, min_impurity_split=None,\n",
      "                           min_samples_leaf=1, min_samples_split=2,\n",
      "                           min_weight_fraction_leaf=0.0, n_estimators=100,\n",
      "                           n_iter_no_change=None, presort='deprecated',\n",
      "                           random_state=10, subsample=1.0, tol=0.0001,\n",
      "                           validation_fraction=0.1, verbose=0,\n",
      "                           warm_start=False)\n"
     ]
    }
   ],
   "source": [
    "for clf in [clf_1, clf_2, clf_3, clf_4]:\n",
    "    print(classifier_score(clf))"
   ]
  },
  {
   "cell_type": "markdown",
   "metadata": {},
   "source": [
    "### Optimize/Tune model"
   ]
  },
  {
   "cell_type": "code",
   "execution_count": 23,
   "metadata": {},
   "outputs": [
    {
     "name": "stdout",
     "output_type": "stream",
     "text": [
      "Fitting 5 folds for each of 4 candidates, totalling 20 fits\n"
     ]
    },
    {
     "name": "stderr",
     "output_type": "stream",
     "text": [
      "[Parallel(n_jobs=8)]: Using backend LokyBackend with 8 concurrent workers.\n",
      "[Parallel(n_jobs=8)]: Done  12 out of  20 | elapsed:  7.5min remaining:  5.0min\n",
      "[Parallel(n_jobs=8)]: Done  20 out of  20 | elapsed: 12.0min finished\n"
     ]
    },
    {
     "name": "stdout",
     "output_type": "stream",
     "text": [
      "      Iter       Train Loss   Remaining Time \n",
      "         1           0.1331            1.77m\n",
      "         2           0.1330            1.65m\n",
      "         3           0.1328            1.59m\n",
      "         4           0.1327            1.54m\n",
      "         5           0.1326            1.56m\n",
      "         6           0.1325            1.59m\n",
      "         7           0.1324            1.62m\n",
      "         8           0.1323            1.61m\n",
      "         9           0.1322            1.59m\n",
      "        10           0.1321            1.57m\n",
      "        20           0.1313            1.50m\n",
      "        30           0.1306            1.27m\n",
      "        40           0.1300            1.06m\n",
      "        50           0.1294           52.16s\n",
      "        60           0.1288           41.12s\n",
      "        70           0.1282           30.64s\n",
      "        80           0.1277           20.71s\n",
      "        90           0.1272           10.63s\n",
      "       100           0.1268            0.00s\n",
      "0.6228839804317612\n",
      "GradientBoostingClassifier(ccp_alpha=0.0, criterion='friedman_mse', init=None,\n",
      "                           learning_rate=0.01, loss='deviance', max_depth=4,\n",
      "                           max_features=None, max_leaf_nodes=None,\n",
      "                           min_impurity_decrease=0.0, min_impurity_split=None,\n",
      "                           min_samples_leaf=1, min_samples_split=2,\n",
      "                           min_weight_fraction_leaf=0.0, n_estimators=100,\n",
      "                           n_iter_no_change=None, presort='deprecated',\n",
      "                           random_state=10, subsample=1.0, tol=0.0001,\n",
      "                           validation_fraction=0.1, verbose=1,\n",
      "                           warm_start=False)\n"
     ]
    }
   ],
   "source": [
    "param_grid = {'learning_rate': [0.05, 0.01], \n",
    "              'n_estimators': [100, 250]}\n",
    "\n",
    "grid = GridSearchCV(estimator=GradientBoostingClassifier(max_depth=4, random_state=10, verbose=1), param_grid=param_grid, scoring='roc_auc', \n",
    "                    verbose=3, n_jobs=8, cv=5)\n",
    "\n",
    "grid.fit(X, y)\n",
    "print(grid.best_score_)\n",
    "print(grid.best_estimator_)"
   ]
  },
  {
   "cell_type": "markdown",
   "metadata": {},
   "source": [
    "## Part 3: Kaggle Competition\n",
    "\n",
    "Now that you've created a model to predict which individuals are most likely to respond to a mailout campaign, it's time to test that model in competition through Kaggle. If you click on the link [here](http://www.kaggle.com/t/21e6d45d4c574c7fa2d868f0e8c83140), you'll be taken to the competition page where, if you have a Kaggle account, you can enter. If you're one of the top performers, you may have the chance to be contacted by a hiring manager from Arvato or Bertelsmann for an interview!\n",
    "\n",
    "Your entry to the competition should be a CSV file with two columns. The first column should be a copy of \"LNR\", which acts as an ID number for each individual in the \"TEST\" partition. The second column, \"RESPONSE\", should be some measure of how likely each individual became a customer – this might not be a straightforward probability. As you should have found in Part 2, there is a large output class imbalance, where most individuals did not respond to the mailout. Thus, predicting individual classes and using accuracy does not seem to be an appropriate performance evaluation method. Instead, the competition will be using AUC to evaluate performance. The exact values of the \"RESPONSE\" column do not matter as much: only that the higher values try to capture as many of the actual customers as possible, early in the ROC curve sweep."
   ]
  },
  {
   "cell_type": "code",
   "execution_count": 31,
   "metadata": {},
   "outputs": [
    {
     "name": "stdout",
     "output_type": "stream",
     "text": [
      "mailout_test number of features: 383\n"
     ]
    }
   ],
   "source": [
    "mailout_test = pd.read_csv('./Udacity_MAILOUT_052018_TEST.csv', sep=';', index_col='LNR', low_memory = False)\n",
    "print(f'mailout_test number of features: {X_test.shape[1]}')"
   ]
  },
  {
   "cell_type": "code",
   "execution_count": 32,
   "metadata": {},
   "outputs": [],
   "source": [
    "lnr = mailout_test.index"
   ]
  },
  {
   "cell_type": "code",
   "execution_count": 33,
   "metadata": {},
   "outputs": [
    {
     "name": "stdout",
     "output_type": "stream",
     "text": [
      "mailout_test number of features: 383\n"
     ]
    }
   ],
   "source": [
    "X_test = clean_data(mailout_test)\n",
    "print(f'mailout_test number of features: {X_test.shape[1]}')"
   ]
  },
  {
   "cell_type": "code",
   "execution_count": 34,
   "metadata": {},
   "outputs": [],
   "source": [
    "#Imputation\n",
    "X_test = pd.DataFrame(imputer.fit_transform(X_test), columns = X_test.columns)"
   ]
  },
  {
   "cell_type": "code",
   "execution_count": 35,
   "metadata": {},
   "outputs": [],
   "source": [
    "# Scaling\n",
    "X_test = pd.DataFrame(scaler.fit_transform(X_test.astype(float)), columns = X_test.columns)"
   ]
  },
  {
   "cell_type": "code",
   "execution_count": 36,
   "metadata": {},
   "outputs": [],
   "source": [
    "# Predict the response for test dataset (y_predict)\n",
    "# use the trained model from Part 2 to predict the probabilties of the testing data \n",
    "response_test = grid.predict_proba(X_test)"
   ]
  },
  {
   "cell_type": "markdown",
   "metadata": {},
   "source": [
    "Output for Kaggle"
   ]
  },
  {
   "cell_type": "code",
   "execution_count": 37,
   "metadata": {},
   "outputs": [
    {
     "data": {
      "text/html": [
       "<div>\n",
       "<style scoped>\n",
       "    .dataframe tbody tr th:only-of-type {\n",
       "        vertical-align: middle;\n",
       "    }\n",
       "\n",
       "    .dataframe tbody tr th {\n",
       "        vertical-align: top;\n",
       "    }\n",
       "\n",
       "    .dataframe thead th {\n",
       "        text-align: right;\n",
       "    }\n",
       "</style>\n",
       "<table border=\"1\" class=\"dataframe\">\n",
       "  <thead>\n",
       "    <tr style=\"text-align: right;\">\n",
       "      <th></th>\n",
       "      <th>LNR</th>\n",
       "      <th>RESPONSE</th>\n",
       "    </tr>\n",
       "  </thead>\n",
       "  <tbody>\n",
       "    <tr>\n",
       "      <th>0</th>\n",
       "      <td>1754</td>\n",
       "      <td>0.985129</td>\n",
       "    </tr>\n",
       "    <tr>\n",
       "      <th>1</th>\n",
       "      <td>1770</td>\n",
       "      <td>0.980601</td>\n",
       "    </tr>\n",
       "    <tr>\n",
       "      <th>2</th>\n",
       "      <td>1465</td>\n",
       "      <td>0.993860</td>\n",
       "    </tr>\n",
       "    <tr>\n",
       "      <th>3</th>\n",
       "      <td>1470</td>\n",
       "      <td>0.992772</td>\n",
       "    </tr>\n",
       "    <tr>\n",
       "      <th>4</th>\n",
       "      <td>1478</td>\n",
       "      <td>0.988769</td>\n",
       "    </tr>\n",
       "    <tr>\n",
       "      <th>5</th>\n",
       "      <td>1782</td>\n",
       "      <td>0.993860</td>\n",
       "    </tr>\n",
       "    <tr>\n",
       "      <th>6</th>\n",
       "      <td>1485</td>\n",
       "      <td>0.985240</td>\n",
       "    </tr>\n",
       "    <tr>\n",
       "      <th>7</th>\n",
       "      <td>1519</td>\n",
       "      <td>0.988409</td>\n",
       "    </tr>\n",
       "    <tr>\n",
       "      <th>8</th>\n",
       "      <td>1835</td>\n",
       "      <td>0.987993</td>\n",
       "    </tr>\n",
       "    <tr>\n",
       "      <th>9</th>\n",
       "      <td>1522</td>\n",
       "      <td>0.984648</td>\n",
       "    </tr>\n",
       "  </tbody>\n",
       "</table>\n",
       "</div>"
      ],
      "text/plain": [
       "    LNR  RESPONSE\n",
       "0  1754  0.985129\n",
       "1  1770  0.980601\n",
       "2  1465  0.993860\n",
       "3  1470  0.992772\n",
       "4  1478  0.988769\n",
       "5  1782  0.993860\n",
       "6  1485  0.985240\n",
       "7  1519  0.988409\n",
       "8  1835  0.987993\n",
       "9  1522  0.984648"
      ]
     },
     "execution_count": 37,
     "metadata": {},
     "output_type": "execute_result"
    }
   ],
   "source": [
    "# generate result file for the competition\n",
    "result = pd.DataFrame({'LNR':lnr, 'RESPONSE':response_test[:,0]})\n",
    "result.to_csv(path_or_buf='./result.csv', index=False)\n",
    "result.head(10)"
   ]
  }
 ],
 "metadata": {
  "kernelspec": {
   "display_name": "Python 3",
   "language": "python",
   "name": "python3"
  },
  "language_info": {
   "codemirror_mode": {
    "name": "ipython",
    "version": 3
   },
   "file_extension": ".py",
   "mimetype": "text/x-python",
   "name": "python",
   "nbconvert_exporter": "python",
   "pygments_lexer": "ipython3",
   "version": "3.7.6"
  },
  "nteract": {
   "version": "0.21.0"
  }
 },
 "nbformat": 4,
 "nbformat_minor": 4
}
